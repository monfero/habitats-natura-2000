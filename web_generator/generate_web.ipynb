{
 "cells": [
  {
   "cell_type": "code",
   "execution_count": 45,
   "metadata": {},
   "outputs": [],
   "source": [
    "from jinja2 import Environment, FileSystemLoader\n",
    "env = Environment(loader=FileSystemLoader('templates'))"
   ]
  },
  {
   "cell_type": "code",
   "execution_count": 46,
   "metadata": {},
   "outputs": [],
   "source": [
    "lista_concellos = {'Monfero':'ES1110003','Irixoa':'ES1110003','Paderne':'ES1110007'}"
   ]
  },
  {
   "cell_type": "code",
   "execution_count": 47,
   "metadata": {},
   "outputs": [],
   "source": [
    "template = env.get_template('tconcello.html')\n",
    "\n",
    "for concello in lista_concellos:\n",
    "    haerox=\"haerox_\"+concello+\".csv\"\n",
    "    hlaats=\"hlaats_\"+concello+\".csv\"\n",
    "    hpoligonais=\"hpoligonais_\"+concello+\".csv\"\n",
    "\n",
    "    output_from_parsed_template = template.render(tconcello=concello,thaerox=haerox,thlaats=hlaats,thpoligonais=hpoligonais,tcodigo=lista_concellos[concello])\n",
    "    #print(output_from_parsed_template)\n",
    "\n",
    "    # to save the results\n",
    "    with open(\"../docs/concellos/\"+concello+\".html\", \"w\") as fh:\n",
    "        fh.write(output_from_parsed_template)"
   ]
  },
  {
   "cell_type": "code",
   "execution_count": 48,
   "metadata": {},
   "outputs": [],
   "source": [
    "template = env.get_template('tindex.html')\n",
    "\n",
    "output_from_parsed_template = template.render(tlista_concellos=lista_concellos)\n",
    "\n",
    "with open(\"../docs/index.html\", \"w\") as fh:\n",
    "    fh.write(output_from_parsed_template)"
   ]
  }
 ],
 "metadata": {
  "interpreter": {
   "hash": "82202c8552a89b900e870190675b6ebe1fa12ceefc48307501eb160957358430"
  },
  "kernelspec": {
   "display_name": "Python 3.8.13 ('eolicos')",
   "language": "python",
   "name": "python3"
  },
  "language_info": {
   "codemirror_mode": {
    "name": "ipython",
    "version": 3
   },
   "file_extension": ".py",
   "mimetype": "text/x-python",
   "name": "python",
   "nbconvert_exporter": "python",
   "pygments_lexer": "ipython3",
   "version": "3.8.13"
  },
  "orig_nbformat": 4
 },
 "nbformat": 4,
 "nbformat_minor": 2
}
