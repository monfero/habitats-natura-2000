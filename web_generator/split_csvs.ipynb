{
 "cells": [
  {
   "cell_type": "code",
   "execution_count": null,
   "metadata": {},
   "outputs": [],
   "source": [
    "# O script carga os ficheiros con info sobre afectación dos parques nos diferentes concellos e divídeos\n",
    "# en múltiples ficheiros atendendo aos diferentes concellos.\n",
    "# - afectacións dos aeroxeradores\n",
    "# - afectación das LAATs\n",
    "# - afectacións das poligonais"
   ]
  },
  {
   "cell_type": "code",
   "execution_count": 2,
   "metadata": {},
   "outputs": [],
   "source": [
    "import pandas as pd"
   ]
  },
  {
   "cell_type": "code",
   "execution_count": 12,
   "metadata": {},
   "outputs": [],
   "source": [
    "df = pd.read_csv('../datasets/completos/habitats_aerox.csv',sep=';')\n",
    "\n",
    "lista_concellos = df.concello.unique().tolist()\n",
    "\n",
    "for concello in lista_concellos:\n",
    "    df_concello = df[df.concello == concello]\n",
    "    df_concello.to_csv('../docs/concellos/haerox/haerox_'+concello+'.csv',index=None,sep=';')"
   ]
  },
  {
   "cell_type": "code",
   "execution_count": 13,
   "metadata": {},
   "outputs": [],
   "source": [
    "df = pd.read_csv('../datasets/completos/habitats_laats.csv',sep=';')\n",
    "\n",
    "lista_concellos = df.concello.unique().tolist()\n",
    "\n",
    "for concello in lista_concellos:\n",
    "    df_concello = df[df.concello == concello]\n",
    "    df_concello.to_csv('../docs/concellos/hlaats/hlaats_'+concello+'.csv',index=None,sep=';')"
   ]
  },
  {
   "cell_type": "code",
   "execution_count": 14,
   "metadata": {},
   "outputs": [],
   "source": [
    "df = pd.read_csv('../datasets/completos/habitats_poligonales.csv',sep=';')\n",
    "\n",
    "lista_concellos = df.concello.unique().tolist()\n",
    "\n",
    "for concello in lista_concellos:\n",
    "    df_concello = df[df.concello == concello]\n",
    "    df_concello.to_csv('../docs/concellos/hpoligonais/hpoligonais_'+concello+'.csv',index=None,sep=';')"
   ]
  },
  {
   "cell_type": "code",
   "execution_count": null,
   "metadata": {},
   "outputs": [],
   "source": []
  }
 ],
 "metadata": {
  "interpreter": {
   "hash": "93a662753ff0de4be1aefa8180c9c559dc79c0876de88e485d2fedc22390c9e9"
  },
  "kernelspec": {
   "display_name": "Python 3.10.2 ('novo_contorno')",
   "language": "python",
   "name": "python3"
  },
  "language_info": {
   "codemirror_mode": {
    "name": "ipython",
    "version": 3
   },
   "file_extension": ".py",
   "mimetype": "text/x-python",
   "name": "python",
   "nbconvert_exporter": "python",
   "pygments_lexer": "ipython3",
   "version": "3.8.13"
  },
  "orig_nbformat": 4
 },
 "nbformat": 4,
 "nbformat_minor": 2
}
